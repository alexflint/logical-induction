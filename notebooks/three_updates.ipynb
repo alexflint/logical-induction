{
 "cells": [
  {
   "cell_type": "code",
   "execution_count": 1,
   "id": "e6f23861",
   "metadata": {},
   "outputs": [
    {
     "name": "stdout",
     "output_type": "stream",
     "text": [
      "Requirement already satisfied: logicalinduction in /home/alex/code/miniconda3/lib/python3.9/site-packages (0.1.4)\r\n"
     ]
    }
   ],
   "source": [
    "!pip install logicalinduction"
   ]
  },
  {
   "cell_type": "code",
   "execution_count": 15,
   "id": "ee691b53",
   "metadata": {},
   "outputs": [],
   "source": [
    "import itertools\n",
    "import numpy as np\n",
    "import matplotlib.pyplot as plt\n",
    "import logicalinduction as li"
   ]
  },
  {
   "cell_type": "code",
   "execution_count": 3,
   "id": "a03b5a2f",
   "metadata": {},
   "outputs": [],
   "source": [
    "sentence1 = li.Atom(\"socrates is a man\")\n",
    "sentence2 = li.Atom(\"socrates is mortal\")\n",
    "sentence3 = li.Implication(sentence1, sentence2)"
   ]
  },
  {
   "cell_type": "code",
   "execution_count": 4,
   "id": "fbe62c17",
   "metadata": {},
   "outputs": [],
   "source": [
    "def trade_on_probability(sentence, day, p, slope=10):\n",
    "    return li.Min(\n",
    "        li.Constant(1),\n",
    "        li.Max(\n",
    "            li.Constant(-1),\n",
    "            li.Sum(\n",
    "                li.Constant(slope * p),\n",
    "                li.Product(\n",
    "                    li.Constant(-slope),\n",
    "                    li.Price(sentence1, day)\n",
    "                )\n",
    "            )\n",
    "        )\n",
    "    )"
   ]
  },
  {
   "cell_type": "code",
   "execution_count": 5,
   "id": "62228c92",
   "metadata": {},
   "outputs": [],
   "source": [
    "def trading_alg(sentence, probability):\n",
    "    for i in li.integers(start=1):\n",
    "        yield {sentence: trade_on_probability(sentence, i, probability)}"
   ]
  },
  {
   "cell_type": "code",
   "execution_count": 6,
   "id": "d324960b",
   "metadata": {},
   "outputs": [],
   "source": [
    "belief_history = li.History([{sentence1: .1}])"
   ]
  },
  {
   "cell_type": "code",
   "execution_count": 7,
   "id": "bf8e3327",
   "metadata": {},
   "outputs": [
    {
     "data": {
      "text/plain": [
       "0.1"
      ]
     },
     "execution_count": 7,
     "metadata": {},
     "output_type": "execute_result"
    }
   ],
   "source": [
    "belief_history.lookup(sentence1, 1)"
   ]
  },
  {
   "cell_type": "code",
   "execution_count": 8,
   "id": "d2b1df74",
   "metadata": {},
   "outputs": [],
   "source": [
    "first_trading_policy = next(trading_alg(sentence1, .8))"
   ]
  },
  {
   "cell_type": "code",
   "execution_count": 9,
   "id": "b71b1092",
   "metadata": {},
   "outputs": [
    {
     "data": {
      "text/plain": [
       "[<matplotlib.lines.Line2D at 0x7ffb2416c070>]"
      ]
     },
     "execution_count": 9,
     "metadata": {},
     "output_type": "execute_result"
    },
    {
     "data": {
      "image/png": "[encoded data removed]",
      "text/plain": [
       "<Figure size 432x288 with 1 Axes>"
      ]
     },
     "metadata": {
      "needs_background": "light"
     },
     "output_type": "display_data"
    }
   ],
   "source": [
    "credences = np.linspace(0, 1, 30)\n",
    "purchase_quantities = [first_trading_policy[sentence1].evaluate(li.History([{sentence1: cr}])) for cr in credences]\n",
    "plt.plot(credences, purchase_quantities)"
   ]
  },
  {
   "cell_type": "code",
   "execution_count": 14,
   "id": "9fe8d503",
   "metadata": {},
   "outputs": [
    {
     "data": {
      "text/plain": [
       "{socrates is a man: Fraction(4, 5)}"
      ]
     },
     "execution_count": 14,
     "metadata": {},
     "output_type": "execute_result"
    }
   ],
   "source": [
    "history = li.History()   # empty history\n",
    "credences = li.find_credences(first_trading_policy, history, tolerance=.01)\n",
    "credences"
   ]
  },
  {
   "cell_type": "code",
   "execution_count": 36,
   "id": "ea2619bc",
   "metadata": {},
   "outputs": [],
   "source": [
    "def value_of_holdings_landscape(trading_policy, credence_history, x_sentence, y_sentence):\n",
    "    min_possible = np.zeros((20, 20))\n",
    "    max_possible = np.zeros((20, 20))\n",
    "    for i, x in enumerate(np.linspace(0, 1, 20)):\n",
    "        for j, y in enumerate(np.linspace(0, 1, 20)):\n",
    "            credences = {x_sentence: x, y_sentence: y}\n",
    "            history = credence_history.with_next_update(credences)\n",
    "\n",
    "            # check all possible worlds (all possible truth values for the support sentences)\n",
    "            possible_values = []\n",
    "            for truth_values in itertools.product([0, 1], repeat=2):\n",
    "                world = {sentence1: truth_values[0], sentence2: truth_values[1]}\n",
    "                value_of_holdings = li.evaluate(trading_policy, history, world)\n",
    "                possible_values.append(value_of_holdings)\n",
    "                \n",
    "            min_possible[j,i] = min(possible_values)\n",
    "            max_possible[j,i] = max(possible_values)\n",
    "\n",
    "    return min_possible, max_possible\n",
    "\n",
    "min_landscape, max_landscape = value_of_holdings_landscape(first_trading_policy, history, sentence1, sentence2)"
   ]
  },
  {
   "cell_type": "code",
   "execution_count": 35,
   "id": "4bd4989e",
   "metadata": {},
   "outputs": [
    {
     "data": {
      "text/plain": [
       "<matplotlib.image.AxesImage at 0x7ffb1e88eac0>"
      ]
     },
     "execution_count": 35,
     "metadata": {},
     "output_type": "execute_result"
    },
    {
     "data": {
      "image/png": "[encoded data removed]",
      "text/plain": [
       "<Figure size 432x288 with 1 Axes>"
      ]
     },
     "metadata": {
      "needs_background": "light"
     },
     "output_type": "display_data"
    }
   ],
   "source": [
    "plt.imshow(max_landscape, extent=(0, 1, 0, 1), vmin=-1, vmax=1)"
   ]
  },
  {
   "cell_type": "code",
   "execution_count": 37,
   "id": "90fd85b6",
   "metadata": {},
   "outputs": [
    {
     "data": {
      "text/plain": [
       "<matplotlib.image.AxesImage at 0x7ffb1e86e670>"
      ]
     },
     "execution_count": 37,
     "metadata": {},
     "output_type": "execute_result"
    },
    {
     "data": {
      "image/png": "[encoded data removed]",
      "text/plain": [
       "<Figure size 432x288 with 1 Axes>"
      ]
     },
     "metadata": {
      "needs_background": "light"
     },
     "output_type": "display_data"
    }
   ],
   "source": [
    "plt.imshow(min_landscape, extent=(0, 1, 0, 1), vmin=-1, vmax=1)"
   ]
  },
  {
   "cell_type": "code",
   "execution_count": 40,
   "id": "948741de",
   "metadata": {},
   "outputs": [],
   "source": [
    "second_trading_policy = {\n",
    "    sentence1: trade_on_probability(sentence1, 1, .1),\n",
    "    sentence2: trade_on_probability(sentence2, 1, .3)\n",
    "}"
   ]
  },
  {
   "cell_type": "code",
   "execution_count": 41,
   "id": "938fa710",
   "metadata": {},
   "outputs": [],
   "source": [
    "min_landscape, max_landscape = value_of_holdings_landscape(second_trading_policy, history, sentence1, sentence2)"
   ]
  },
  {
   "cell_type": "code",
   "execution_count": 42,
   "id": "e5ba2c03",
   "metadata": {},
   "outputs": [
    {
     "data": {
      "text/plain": [
       "<matplotlib.image.AxesImage at 0x7ffb1e7d4880>"
      ]
     },
     "execution_count": 42,
     "metadata": {},
     "output_type": "execute_result"
    },
    {
     "data": {
      "image/png": "[encoded data removed]",
      "text/plain": [
       "<Figure size 432x288 with 1 Axes>"
      ]
     },
     "metadata": {
      "needs_background": "light"
     },
     "output_type": "display_data"
    }
   ],
   "source": [
    "plt.imshow(max_landscape, extent=(0, 1, 0, 1), vmin=-1, vmax=1)"
   ]
  },
  {
   "cell_type": "code",
   "execution_count": 43,
   "id": "0457c929",
   "metadata": {},
   "outputs": [
    {
     "data": {
      "text/plain": [
       "<matplotlib.image.AxesImage at 0x7ffb1e7a73a0>"
      ]
     },
     "execution_count": 43,
     "metadata": {},
     "output_type": "execute_result"
    },
    {
     "data": {
      "image/png": "[encoded data removed]",
      "text/plain": [
       "<Figure size 432x288 with 1 Axes>"
      ]
     },
     "metadata": {
      "needs_background": "light"
     },
     "output_type": "display_data"
    }
   ],
   "source": [
    "plt.imshow(min_landscape, extent=(0, 1, 0, 1), vmin=-1, vmax=1)"
   ]
  },
  {
   "cell_type": "code",
   "execution_count": 47,
   "id": "f6d7d652",
   "metadata": {},
   "outputs": [
    {
     "name": "stdout",
     "output_type": "stream",
     "text": [
      "SafeReciprocal\n",
      ". Max\n",
      ". . Product\n",
      ". . . Constant(0.5)\n",
      ". . . Product\n",
      ". . . . Constant(-1)\n",
      ". . . . Sum\n",
      ". . . . . Product\n",
      ". . . . . . Min\n",
      ". . . . . . . Constant(1)\n",
      ". . . . . . . Max\n",
      ". . . . . . . . Constant(-1)\n",
      ". . . . . . . . Sum\n",
      ". . . . . . . . . Constant(1.0)\n",
      ". . . . . . . . . Product\n",
      ". . . . . . . . . . Constant(-10)\n",
      ". . . . . . . . . . Price(socrates is a man, 1)\n",
      ". . . . . . Sum\n",
      ". . . . . . . Constant(1.0)\n",
      ". . . . . . . Product\n",
      ". . . . . . . . Constant(-1)\n",
      ". . . . . . . . Price(socrates is a man, 1)\n",
      ". . . . . Product\n",
      ". . . . . . Min\n",
      ". . . . . . . Constant(1)\n",
      ". . . . . . . Max\n",
      ". . . . . . . . Constant(-1)\n",
      ". . . . . . . . Sum\n",
      ". . . . . . . . . Constant(3.0)\n",
      ". . . . . . . . . Product\n",
      ". . . . . . . . . . Constant(-10)\n",
      ". . . . . . . . . . Price(socrates is a man, 1)\n",
      ". . . . . . Sum\n",
      ". . . . . . . Constant(1.0)\n",
      ". . . . . . . Product\n",
      ". . . . . . . . Constant(-1)\n",
      ". . . . . . . . Price(socrates is mortal, 1)\n",
      ". . Product\n",
      ". . . Constant(0.5)\n",
      ". . . Product\n",
      ". . . . Constant(-1)\n",
      ". . . . Sum\n",
      ". . . . . Product\n",
      ". . . . . . Min\n",
      ". . . . . . . Constant(1)\n",
      ". . . . . . . Max\n",
      ". . . . . . . . Constant(-1)\n",
      ". . . . . . . . Sum\n",
      ". . . . . . . . . Constant(1.0)\n",
      ". . . . . . . . . Product\n",
      ". . . . . . . . . . Constant(-10)\n",
      ". . . . . . . . . . Price(socrates is a man, 1)\n",
      ". . . . . . Sum\n",
      ". . . . . . . Constant(1.0)\n",
      ". . . . . . . Product\n",
      ". . . . . . . . Constant(-1)\n",
      ". . . . . . . . Price(socrates is a man, 1)\n",
      ". . . . . Product\n",
      ". . . . . . Min\n",
      ". . . . . . . Constant(1)\n",
      ". . . . . . . Max\n",
      ". . . . . . . . Constant(-1)\n",
      ". . . . . . . . Sum\n",
      ". . . . . . . . . Constant(3.0)\n",
      ". . . . . . . . . Product\n",
      ". . . . . . . . . . Constant(-10)\n",
      ". . . . . . . . . . Price(socrates is a man, 1)\n",
      ". . . . . . Sum\n",
      ". . . . . . . Constant(0.0)\n",
      ". . . . . . . Product\n",
      ". . . . . . . . Constant(-1)\n",
      ". . . . . . . . Price(socrates is mortal, 1)\n"
     ]
    }
   ],
   "source": [
    "budget_factor = li.compute_budget_factor(\n",
    "    budget=2,\n",
    "    observation_history=[],\n",
    "    next_observation=sentence1,\n",
    "    trading_history=[],\n",
    "    next_trading_formulas=second_trading_policy,\n",
    "    credence_history=history)\n",
    "\n",
    "print(budget_factor.tree())"
   ]
  },
  {
   "cell_type": "code",
   "execution_count": 51,
   "id": "1c3d45cf",
   "metadata": {},
   "outputs": [
    {
     "name": "stdout",
     "output_type": "stream",
     "text": [
      "Min\n",
      ". Constant(1)\n",
      ". Max\n",
      ". . Constant(-1)\n",
      ". . Sum\n",
      ". . . Constant(1.0)\n",
      ". . . Product\n",
      ". . . . Constant(-10)\n",
      ". . . . Price(socrates is a man, 1)\n"
     ]
    }
   ],
   "source": [
    "print(second_trading_policy[sentence1].tree())"
   ]
  },
  {
   "cell_type": "code",
   "execution_count": null,
   "id": "18796391",
   "metadata": {},
   "outputs": [],
   "source": []
  },
  {
   "cell_type": "code",
   "execution_count": null,
   "id": "a933ef57",
   "metadata": {},
   "outputs": [],
   "source": []
  }
 ],
 "metadata": {
  "kernelspec": {
   "display_name": "Python 3 (ipykernel)",
   "language": "python",
   "name": "python3"
  },
  "language_info": {
   "codemirror_mode": {
    "name": "ipython",
    "version": 3
   },
   "file_extension": ".py",
   "mimetype": "text/x-python",
   "name": "python",
   "nbconvert_exporter": "python",
   "pygments_lexer": "ipython3",
   "version": "3.9.7"
  }
 },
 "nbformat": 4,
 "nbformat_minor": 5
}
