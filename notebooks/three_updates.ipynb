{
 "cells": [
  {
   "cell_type": "code",
   "execution_count": 1,
   "id": "c2fbacc5",
   "metadata": {},
   "outputs": [
    {
     "name": "stdout",
     "output_type": "stream",
     "text": [
      "Requirement already satisfied: logicalinduction in /home/alex/code/miniconda3/lib/python3.9/site-packages (0.1.4)\r\n"
     ]
    }
   ],
   "source": [
    "!pip install logicalinduction"
   ]
  },
  {
   "cell_type": "code",
   "execution_count": 2,
   "id": "633c9036",
   "metadata": {},
   "outputs": [],
   "source": [
    "import logicalinduction as li"
   ]
  },
  {
   "cell_type": "code",
   "execution_count": 3,
   "id": "e589345e",
   "metadata": {},
   "outputs": [],
   "source": [
    "li.find_credences?"
   ]
  },
  {
   "cell_type": "code",
   "execution_count": 6,
   "id": "c3a765ca",
   "metadata": {},
   "outputs": [],
   "source": [
    "sentence1 = li.Atom(\"socrates is a man\")"
   ]
  },
  {
   "cell_type": "code",
   "execution_count": 8,
   "id": "d590136b",
   "metadata": {},
   "outputs": [],
   "source": [
    "sentence2 = li.Atom(\"socrates is mortal\")"
   ]
  },
  {
   "cell_type": "code",
   "execution_count": 11,
   "id": "d551baba",
   "metadata": {},
   "outputs": [],
   "source": [
    "sentence3 = li.Implication(sentence1, sentence2)"
   ]
  },
  {
   "cell_type": "code",
   "execution_count": 12,
   "id": "991488db",
   "metadata": {},
   "outputs": [
    {
     "data": {
      "text/plain": [
       "socrates is a man → socrates is mortal"
      ]
     },
     "execution_count": 12,
     "metadata": {},
     "output_type": "execute_result"
    }
   ],
   "source": [
    "sentence3"
   ]
  },
  {
   "cell_type": "code",
   "execution_count": 24,
   "id": "1ae324cc",
   "metadata": {},
   "outputs": [],
   "source": [
    "def trade_on_probability(sentence, day, p, slope=10):\n",
    "    return li.Min(\n",
    "        li.Constant(1),\n",
    "        li.Max(\n",
    "            li.Constant(-1),\n",
    "            li.Sum(\n",
    "                li.Constant(slope * p),\n",
    "                li.Product(\n",
    "                    li.Constant(-slope),\n",
    "                    li.Price(sentence1, day)\n",
    "                )\n",
    "            )\n",
    "        )\n",
    "    )"
   ]
  },
  {
   "cell_type": "code",
   "execution_count": 25,
   "id": "7e659932",
   "metadata": {},
   "outputs": [],
   "source": [
    "def trading_alg(probability):\n",
    "    for i in li.integers(start=1):\n",
    "        yield {sentence1: trade_on_probability(sentence1, i, probability)}"
   ]
  },
  {
   "cell_type": "code",
   "execution_count": 30,
   "id": "b6f9a339",
   "metadata": {},
   "outputs": [],
   "source": [
    "belief_history = li.History([{sentence1: .1}])"
   ]
  },
  {
   "cell_type": "code",
   "execution_count": 31,
   "id": "465eca79",
   "metadata": {},
   "outputs": [
    {
     "data": {
      "text/plain": [
       "0.1"
      ]
     },
     "execution_count": 31,
     "metadata": {},
     "output_type": "execute_result"
    }
   ],
   "source": [
    "belief_history.lookup(sentence1, 1)"
   ]
  },
  {
   "cell_type": "code",
   "execution_count": 26,
   "id": "3c89e502",
   "metadata": {},
   "outputs": [],
   "source": [
    "first_trading_policy = next(trading_alg(.8))"
   ]
  },
  {
   "cell_type": "markdown",
   "id": "79536d71",
   "metadata": {},
   "source": [
    "# Here we have a title"
   ]
  },
  {
   "cell_type": "code",
   "execution_count": null,
   "id": "27d059df",
   "metadata": {},
   "outputs": [],
   "source": []
  }
 ],
 "metadata": {
  "kernelspec": {
   "display_name": "Python 3 (ipykernel)",
   "language": "python",
   "name": "python3"
  },
  "language_info": {
   "codemirror_mode": {
    "name": "ipython",
    "version": 3
   },
   "file_extension": ".py",
   "mimetype": "text/x-python",
   "name": "python",
   "nbconvert_exporter": "python",
   "pygments_lexer": "ipython3",
   "version": "3.9.7"
  }
 },
 "nbformat": 4,
 "nbformat_minor": 5
}
